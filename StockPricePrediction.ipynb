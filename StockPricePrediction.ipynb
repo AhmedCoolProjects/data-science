{
  "nbformat": 4,
  "nbformat_minor": 0,
  "metadata": {
    "colab": {
      "name": "StockPricePrediction.ipynb",
      "provenance": [],
      "collapsed_sections": [],
      "authorship_tag": "ABX9TyNnU4HVF+tYG9ifi9ygyMwT",
      "include_colab_link": true
    },
    "kernelspec": {
      "name": "python3",
      "display_name": "Python 3"
    },
    "language_info": {
      "name": "python"
    }
  },
  "cells": [
    {
      "cell_type": "markdown",
      "metadata": {
        "id": "view-in-github",
        "colab_type": "text"
      },
      "source": [
        "<a href=\"https://colab.research.google.com/github/AhmedCoolProjects/data-science/blob/main/StockPricePrediction.ipynb\" target=\"_parent\"><img src=\"https://colab.research.google.com/assets/colab-badge.svg\" alt=\"Open In Colab\"/></a>"
      ]
    },
    {
      "cell_type": "code",
      "execution_count": null,
      "metadata": {
        "id": "MIPbgBdpXRky"
      },
      "outputs": [],
      "source": [
        "import pandas as pd\n",
        "import matplotlib.pyplot as plt\n",
        "%matplotlib inline\n",
        "from matplotlib.pylab import rcParams\n",
        "rcParams['figure.figsize'] = 16, 8\n",
        "from keras.models import Sequential\n",
        "from keras.layers import LSTM, Dropout, Dense\n",
        "from sklearn.preprocessing import MinMaxScaler\n",
        "import numpy as np"
      ]
    },
    {
      "cell_type": "code",
      "source": [
        "df = pd.read_csv(\"/content/NSE-Tata-Global-Beverages-Limited.csv\")"
      ],
      "metadata": {
        "id": "KvI-7jgqXWaY"
      },
      "execution_count": null,
      "outputs": []
    },
    {
      "cell_type": "code",
      "source": [
        "df.head()"
      ],
      "metadata": {
        "colab": {
          "base_uri": "https://localhost:8080/",
          "height": 206
        },
        "id": "MoyV_PtFXd-k",
        "outputId": "2e4227b7-3235-4dba-cc0d-02e43d32229f"
      },
      "execution_count": null,
      "outputs": [
        {
          "output_type": "execute_result",
          "data": {
            "text/plain": [
              "         Date    Open    High     Low    Last   Close  Total Trade Quantity  \\\n",
              "0  2018-10-08  208.00  222.25  206.85  216.00  215.15             4642146.0   \n",
              "1  2018-10-05  217.00  218.60  205.90  210.25  209.20             3519515.0   \n",
              "2  2018-10-04  223.50  227.80  216.15  217.25  218.20             1728786.0   \n",
              "3  2018-10-03  230.00  237.50  225.75  226.45  227.60             1708590.0   \n",
              "4  2018-10-01  234.55  234.60  221.05  230.30  230.90             1534749.0   \n",
              "\n",
              "   Turnover (Lacs)  \n",
              "0         10062.83  \n",
              "1          7407.06  \n",
              "2          3815.79  \n",
              "3          3960.27  \n",
              "4          3486.05  "
            ],
            "text/html": [
              "\n",
              "  <div id=\"df-e56029af-e676-4ad2-8d14-334741aefb4f\">\n",
              "    <div class=\"colab-df-container\">\n",
              "      <div>\n",
              "<style scoped>\n",
              "    .dataframe tbody tr th:only-of-type {\n",
              "        vertical-align: middle;\n",
              "    }\n",
              "\n",
              "    .dataframe tbody tr th {\n",
              "        vertical-align: top;\n",
              "    }\n",
              "\n",
              "    .dataframe thead th {\n",
              "        text-align: right;\n",
              "    }\n",
              "</style>\n",
              "<table border=\"1\" class=\"dataframe\">\n",
              "  <thead>\n",
              "    <tr style=\"text-align: right;\">\n",
              "      <th></th>\n",
              "      <th>Date</th>\n",
              "      <th>Open</th>\n",
              "      <th>High</th>\n",
              "      <th>Low</th>\n",
              "      <th>Last</th>\n",
              "      <th>Close</th>\n",
              "      <th>Total Trade Quantity</th>\n",
              "      <th>Turnover (Lacs)</th>\n",
              "    </tr>\n",
              "  </thead>\n",
              "  <tbody>\n",
              "    <tr>\n",
              "      <th>0</th>\n",
              "      <td>2018-10-08</td>\n",
              "      <td>208.00</td>\n",
              "      <td>222.25</td>\n",
              "      <td>206.85</td>\n",
              "      <td>216.00</td>\n",
              "      <td>215.15</td>\n",
              "      <td>4642146.0</td>\n",
              "      <td>10062.83</td>\n",
              "    </tr>\n",
              "    <tr>\n",
              "      <th>1</th>\n",
              "      <td>2018-10-05</td>\n",
              "      <td>217.00</td>\n",
              "      <td>218.60</td>\n",
              "      <td>205.90</td>\n",
              "      <td>210.25</td>\n",
              "      <td>209.20</td>\n",
              "      <td>3519515.0</td>\n",
              "      <td>7407.06</td>\n",
              "    </tr>\n",
              "    <tr>\n",
              "      <th>2</th>\n",
              "      <td>2018-10-04</td>\n",
              "      <td>223.50</td>\n",
              "      <td>227.80</td>\n",
              "      <td>216.15</td>\n",
              "      <td>217.25</td>\n",
              "      <td>218.20</td>\n",
              "      <td>1728786.0</td>\n",
              "      <td>3815.79</td>\n",
              "    </tr>\n",
              "    <tr>\n",
              "      <th>3</th>\n",
              "      <td>2018-10-03</td>\n",
              "      <td>230.00</td>\n",
              "      <td>237.50</td>\n",
              "      <td>225.75</td>\n",
              "      <td>226.45</td>\n",
              "      <td>227.60</td>\n",
              "      <td>1708590.0</td>\n",
              "      <td>3960.27</td>\n",
              "    </tr>\n",
              "    <tr>\n",
              "      <th>4</th>\n",
              "      <td>2018-10-01</td>\n",
              "      <td>234.55</td>\n",
              "      <td>234.60</td>\n",
              "      <td>221.05</td>\n",
              "      <td>230.30</td>\n",
              "      <td>230.90</td>\n",
              "      <td>1534749.0</td>\n",
              "      <td>3486.05</td>\n",
              "    </tr>\n",
              "  </tbody>\n",
              "</table>\n",
              "</div>\n",
              "      <button class=\"colab-df-convert\" onclick=\"convertToInteractive('df-e56029af-e676-4ad2-8d14-334741aefb4f')\"\n",
              "              title=\"Convert this dataframe to an interactive table.\"\n",
              "              style=\"display:none;\">\n",
              "        \n",
              "  <svg xmlns=\"http://www.w3.org/2000/svg\" height=\"24px\"viewBox=\"0 0 24 24\"\n",
              "       width=\"24px\">\n",
              "    <path d=\"M0 0h24v24H0V0z\" fill=\"none\"/>\n",
              "    <path d=\"M18.56 5.44l.94 2.06.94-2.06 2.06-.94-2.06-.94-.94-2.06-.94 2.06-2.06.94zm-11 1L8.5 8.5l.94-2.06 2.06-.94-2.06-.94L8.5 2.5l-.94 2.06-2.06.94zm10 10l.94 2.06.94-2.06 2.06-.94-2.06-.94-.94-2.06-.94 2.06-2.06.94z\"/><path d=\"M17.41 7.96l-1.37-1.37c-.4-.4-.92-.59-1.43-.59-.52 0-1.04.2-1.43.59L10.3 9.45l-7.72 7.72c-.78.78-.78 2.05 0 2.83L4 21.41c.39.39.9.59 1.41.59.51 0 1.02-.2 1.41-.59l7.78-7.78 2.81-2.81c.8-.78.8-2.07 0-2.86zM5.41 20L4 18.59l7.72-7.72 1.47 1.35L5.41 20z\"/>\n",
              "  </svg>\n",
              "      </button>\n",
              "      \n",
              "  <style>\n",
              "    .colab-df-container {\n",
              "      display:flex;\n",
              "      flex-wrap:wrap;\n",
              "      gap: 12px;\n",
              "    }\n",
              "\n",
              "    .colab-df-convert {\n",
              "      background-color: #E8F0FE;\n",
              "      border: none;\n",
              "      border-radius: 50%;\n",
              "      cursor: pointer;\n",
              "      display: none;\n",
              "      fill: #1967D2;\n",
              "      height: 32px;\n",
              "      padding: 0 0 0 0;\n",
              "      width: 32px;\n",
              "    }\n",
              "\n",
              "    .colab-df-convert:hover {\n",
              "      background-color: #E2EBFA;\n",
              "      box-shadow: 0px 1px 2px rgba(60, 64, 67, 0.3), 0px 1px 3px 1px rgba(60, 64, 67, 0.15);\n",
              "      fill: #174EA6;\n",
              "    }\n",
              "\n",
              "    [theme=dark] .colab-df-convert {\n",
              "      background-color: #3B4455;\n",
              "      fill: #D2E3FC;\n",
              "    }\n",
              "\n",
              "    [theme=dark] .colab-df-convert:hover {\n",
              "      background-color: #434B5C;\n",
              "      box-shadow: 0px 1px 3px 1px rgba(0, 0, 0, 0.15);\n",
              "      filter: drop-shadow(0px 1px 2px rgba(0, 0, 0, 0.3));\n",
              "      fill: #FFFFFF;\n",
              "    }\n",
              "  </style>\n",
              "\n",
              "      <script>\n",
              "        const buttonEl =\n",
              "          document.querySelector('#df-e56029af-e676-4ad2-8d14-334741aefb4f button.colab-df-convert');\n",
              "        buttonEl.style.display =\n",
              "          google.colab.kernel.accessAllowed ? 'block' : 'none';\n",
              "\n",
              "        async function convertToInteractive(key) {\n",
              "          const element = document.querySelector('#df-e56029af-e676-4ad2-8d14-334741aefb4f');\n",
              "          const dataTable =\n",
              "            await google.colab.kernel.invokeFunction('convertToInteractive',\n",
              "                                                     [key], {});\n",
              "          if (!dataTable) return;\n",
              "\n",
              "          const docLinkHtml = 'Like what you see? Visit the ' +\n",
              "            '<a target=\"_blank\" href=https://colab.research.google.com/notebooks/data_table.ipynb>data table notebook</a>'\n",
              "            + ' to learn more about interactive tables.';\n",
              "          element.innerHTML = '';\n",
              "          dataTable['output_type'] = 'display_data';\n",
              "          await google.colab.output.renderOutput(dataTable, element);\n",
              "          const docLink = document.createElement('div');\n",
              "          docLink.innerHTML = docLinkHtml;\n",
              "          element.appendChild(docLink);\n",
              "        }\n",
              "      </script>\n",
              "    </div>\n",
              "  </div>\n",
              "  "
            ]
          },
          "metadata": {},
          "execution_count": 3
        }
      ]
    },
    {
      "cell_type": "code",
      "source": [
        "df.info()"
      ],
      "metadata": {
        "colab": {
          "base_uri": "https://localhost:8080/"
        },
        "id": "ISZa4zreXfeq",
        "outputId": "8d70d2eb-d60e-45c0-b9cb-f552de21d19f"
      },
      "execution_count": null,
      "outputs": [
        {
          "output_type": "stream",
          "name": "stdout",
          "text": [
            "<class 'pandas.core.frame.DataFrame'>\n",
            "RangeIndex: 1235 entries, 0 to 1234\n",
            "Data columns (total 8 columns):\n",
            " #   Column                Non-Null Count  Dtype  \n",
            "---  ------                --------------  -----  \n",
            " 0   Date                  1235 non-null   object \n",
            " 1   Open                  1235 non-null   float64\n",
            " 2   High                  1235 non-null   float64\n",
            " 3   Low                   1235 non-null   float64\n",
            " 4   Last                  1235 non-null   float64\n",
            " 5   Close                 1235 non-null   float64\n",
            " 6   Total Trade Quantity  1235 non-null   float64\n",
            " 7   Turnover (Lacs)       1235 non-null   float64\n",
            "dtypes: float64(7), object(1)\n",
            "memory usage: 77.3+ KB\n"
          ]
        }
      ]
    },
    {
      "cell_type": "code",
      "source": [
        "df[\"Date\"] = pd.to_datetime(df[\"Date\"], format=\"%Y-%m-%d\")\n",
        "# let's set the index to be the date\n",
        "df.set_index(\"Date\", inplace=True)"
      ],
      "metadata": {
        "id": "FDcfWfcuY0BW"
      },
      "execution_count": null,
      "outputs": []
    },
    {
      "cell_type": "code",
      "source": [
        "# let's plot the Close column \n",
        "plt.plot(df[\"Close\"])\n",
        "plt.title(\"Close Price History\")\n",
        "plt.xlabel(\"Years\")\n",
        "plt.ylabel(\"Close Price\")\n",
        "plt.show()"
      ],
      "metadata": {
        "colab": {
          "base_uri": "https://localhost:8080/",
          "height": 295
        },
        "id": "eGgKTKjBbprJ",
        "outputId": "8d40955b-8f92-4a24-d435-f3227c32ae96"
      },
      "execution_count": null,
      "outputs": [
        {
          "output_type": "display_data",
          "data": {
            "text/plain": [
              "<Figure size 432x288 with 1 Axes>"
            ],
            "image/png": "[encoded data removed]"
          },
          "metadata": {
            "needs_background": "light"
          }
        }
      ]
    },
    {
      "cell_type": "code",
      "source": [
        "data = df.sort_index(ascending=True, axis=0)\n",
        "data = data[[\"Close\"]]\n",
        "data.head()"
      ],
      "metadata": {
        "colab": {
          "base_uri": "https://localhost:8080/",
          "height": 238
        },
        "id": "Rubdp27-dB4D",
        "outputId": "60525292-9656-4db7-86e3-218b68cbf0fb"
      },
      "execution_count": null,
      "outputs": [
        {
          "output_type": "execute_result",
          "data": {
            "text/plain": [
              "             Close\n",
              "Date              \n",
              "2013-10-08  155.80\n",
              "2013-10-09  155.55\n",
              "2013-10-10  160.15\n",
              "2013-10-11  160.05\n",
              "2013-10-14  159.45"
            ],
            "text/html": [
              "\n",
              "  <div id=\"df-944b2b40-2f94-4ef1-957e-45057e0d9f7e\">\n",
              "    <div class=\"colab-df-container\">\n",
              "      <div>\n",
              "<style scoped>\n",
              "    .dataframe tbody tr th:only-of-type {\n",
              "        vertical-align: middle;\n",
              "    }\n",
              "\n",
              "    .dataframe tbody tr th {\n",
              "        vertical-align: top;\n",
              "    }\n",
              "\n",
              "    .dataframe thead th {\n",
              "        text-align: right;\n",
              "    }\n",
              "</style>\n",
              "<table border=\"1\" class=\"dataframe\">\n",
              "  <thead>\n",
              "    <tr style=\"text-align: right;\">\n",
              "      <th></th>\n",
              "      <th>Close</th>\n",
              "    </tr>\n",
              "    <tr>\n",
              "      <th>Date</th>\n",
              "      <th></th>\n",
              "    </tr>\n",
              "  </thead>\n",
              "  <tbody>\n",
              "    <tr>\n",
              "      <th>2013-10-08</th>\n",
              "      <td>155.80</td>\n",
              "    </tr>\n",
              "    <tr>\n",
              "      <th>2013-10-09</th>\n",
              "      <td>155.55</td>\n",
              "    </tr>\n",
              "    <tr>\n",
              "      <th>2013-10-10</th>\n",
              "      <td>160.15</td>\n",
              "    </tr>\n",
              "    <tr>\n",
              "      <th>2013-10-11</th>\n",
              "      <td>160.05</td>\n",
              "    </tr>\n",
              "    <tr>\n",
              "      <th>2013-10-14</th>\n",
              "      <td>159.45</td>\n",
              "    </tr>\n",
              "  </tbody>\n",
              "</table>\n",
              "</div>\n",
              "      <button class=\"colab-df-convert\" onclick=\"convertToInteractive('df-944b2b40-2f94-4ef1-957e-45057e0d9f7e')\"\n",
              "              title=\"Convert this dataframe to an interactive table.\"\n",
              "              style=\"display:none;\">\n",
              "        \n",
              "  <svg xmlns=\"http://www.w3.org/2000/svg\" height=\"24px\"viewBox=\"0 0 24 24\"\n",
              "       width=\"24px\">\n",
              "    <path d=\"M0 0h24v24H0V0z\" fill=\"none\"/>\n",
              "    <path d=\"M18.56 5.44l.94 2.06.94-2.06 2.06-.94-2.06-.94-.94-2.06-.94 2.06-2.06.94zm-11 1L8.5 8.5l.94-2.06 2.06-.94-2.06-.94L8.5 2.5l-.94 2.06-2.06.94zm10 10l.94 2.06.94-2.06 2.06-.94-2.06-.94-.94-2.06-.94 2.06-2.06.94z\"/><path d=\"M17.41 7.96l-1.37-1.37c-.4-.4-.92-.59-1.43-.59-.52 0-1.04.2-1.43.59L10.3 9.45l-7.72 7.72c-.78.78-.78 2.05 0 2.83L4 21.41c.39.39.9.59 1.41.59.51 0 1.02-.2 1.41-.59l7.78-7.78 2.81-2.81c.8-.78.8-2.07 0-2.86zM5.41 20L4 18.59l7.72-7.72 1.47 1.35L5.41 20z\"/>\n",
              "  </svg>\n",
              "      </button>\n",
              "      \n",
              "  <style>\n",
              "    .colab-df-container {\n",
              "      display:flex;\n",
              "      flex-wrap:wrap;\n",
              "      gap: 12px;\n",
              "    }\n",
              "\n",
              "    .colab-df-convert {\n",
              "      background-color: #E8F0FE;\n",
              "      border: none;\n",
              "      border-radius: 50%;\n",
              "      cursor: pointer;\n",
              "      display: none;\n",
              "      fill: #1967D2;\n",
              "      height: 32px;\n",
              "      padding: 0 0 0 0;\n",
              "      width: 32px;\n",
              "    }\n",
              "\n",
              "    .colab-df-convert:hover {\n",
              "      background-color: #E2EBFA;\n",
              "      box-shadow: 0px 1px 2px rgba(60, 64, 67, 0.3), 0px 1px 3px 1px rgba(60, 64, 67, 0.15);\n",
              "      fill: #174EA6;\n",
              "    }\n",
              "\n",
              "    [theme=dark] .colab-df-convert {\n",
              "      background-color: #3B4455;\n",
              "      fill: #D2E3FC;\n",
              "    }\n",
              "\n",
              "    [theme=dark] .colab-df-convert:hover {\n",
              "      background-color: #434B5C;\n",
              "      box-shadow: 0px 1px 3px 1px rgba(0, 0, 0, 0.15);\n",
              "      filter: drop-shadow(0px 1px 2px rgba(0, 0, 0, 0.3));\n",
              "      fill: #FFFFFF;\n",
              "    }\n",
              "  </style>\n",
              "\n",
              "      <script>\n",
              "        const buttonEl =\n",
              "          document.querySelector('#df-944b2b40-2f94-4ef1-957e-45057e0d9f7e button.colab-df-convert');\n",
              "        buttonEl.style.display =\n",
              "          google.colab.kernel.accessAllowed ? 'block' : 'none';\n",
              "\n",
              "        async function convertToInteractive(key) {\n",
              "          const element = document.querySelector('#df-944b2b40-2f94-4ef1-957e-45057e0d9f7e');\n",
              "          const dataTable =\n",
              "            await google.colab.kernel.invokeFunction('convertToInteractive',\n",
              "                                                     [key], {});\n",
              "          if (!dataTable) return;\n",
              "\n",
              "          const docLinkHtml = 'Like what you see? Visit the ' +\n",
              "            '<a target=\"_blank\" href=https://colab.research.google.com/notebooks/data_table.ipynb>data table notebook</a>'\n",
              "            + ' to learn more about interactive tables.';\n",
              "          element.innerHTML = '';\n",
              "          dataTable['output_type'] = 'display_data';\n",
              "          await google.colab.output.renderOutput(dataTable, element);\n",
              "          const docLink = document.createElement('div');\n",
              "          docLink.innerHTML = docLinkHtml;\n",
              "          element.appendChild(docLink);\n",
              "        }\n",
              "      </script>\n",
              "    </div>\n",
              "  </div>\n",
              "  "
            ]
          },
          "metadata": {},
          "execution_count": 7
        }
      ]
    },
    {
      "cell_type": "code",
      "source": [
        "data.info()"
      ],
      "metadata": {
        "colab": {
          "base_uri": "https://localhost:8080/"
        },
        "id": "ahMgYYwLfWNK",
        "outputId": "691524d0-c185-436a-c63c-48a83a76eab1"
      },
      "execution_count": null,
      "outputs": [
        {
          "output_type": "stream",
          "name": "stdout",
          "text": [
            "<class 'pandas.core.frame.DataFrame'>\n",
            "DatetimeIndex: 1235 entries, 2013-10-08 to 2018-10-08\n",
            "Data columns (total 1 columns):\n",
            " #   Column  Non-Null Count  Dtype  \n",
            "---  ------  --------------  -----  \n",
            " 0   Close   1235 non-null   float64\n",
            "dtypes: float64(1)\n",
            "memory usage: 19.3 KB\n"
          ]
        }
      ]
    },
    {
      "cell_type": "code",
      "source": [
        "# create numpy array from data\n",
        "training_set = data.to_numpy()\n",
        "# to transform features by scaling each feature to a given range (usually 0 to 1)\n",
        "scaler = MinMaxScaler(feature_range=(0, 1))\n",
        "# to rescale our features to have a mean as 0 and a variance of 1 and bring them down to a common scale without distorting the distribution\n",
        "scaled_training_set = scaler.fit_transform(training_set)"
      ],
      "metadata": {
        "id": "UwrOHSGjswTW"
      },
      "execution_count": null,
      "outputs": []
    },
    {
      "cell_type": "code",
      "source": [
        "# The X_train would be a list of 60 values followed by the label in Y_train\n",
        "X_train, Y_train = [], []\n",
        "for i in range(60, training_set.shape[0]):\n",
        "    X_train.append(scaled_training_set[i-60:i, 0])\n",
        "    Y_train.append(scaled_training_set[i, 0])\n",
        "# convert our lists to numpy arrays\n",
        "X_train, Y_train = np.array(X_train), np.array(Y_train)\n",
        "# Reshaping our X_train to 3rd dim and Y_train to 2nd dim\n",
        "X_train = np.reshape(X_train, (X_train.shape[0], X_train.shape[1], 1))\n",
        "Y_train = np.reshape(Y_train, (Y_train.shape[0], 1))\n",
        "print(X_train.shape, Y_train.shape)"
      ],
      "metadata": {
        "colab": {
          "base_uri": "https://localhost:8080/"
        },
        "id": "eafFaJ7BtNmw",
        "outputId": "042ec8b1-aa24-4306-918b-27d6088885fa"
      },
      "execution_count": null,
      "outputs": [
        {
          "output_type": "stream",
          "name": "stdout",
          "text": [
            "(1175, 60, 1) (1175, 1)\n"
          ]
        }
      ]
    },
    {
      "cell_type": "code",
      "source": [
        "# create model\n",
        "lstm_model = Sequential()\n",
        "# Building our layers\n",
        "'''\n",
        "Long Short-Term Memory (LSTM)\n",
        "This layer will choose different implementations (cuDNN or pure TensorFlow) to maximize the performance of the model.\n",
        "'''\n",
        "lstm_model.add(LSTM(units=50, return_sequences=True, input_shape=(X_train.shape[1], 1)))\n",
        "'''\n",
        "Dropout, this layer randomly sets input units to 0 with a frequency of rate at each step during training time, which helps prevent overfitting.\n",
        "'''\n",
        "lstm_model.add(Dropout(0.2))\n",
        "lstm_model.add(LSTM(units=50, return_sequences=True))\n",
        "lstm_model.add(Dropout(0.2))\n",
        "lstm_model.add(LSTM(units=50, return_sequences=True))\n",
        "lstm_model.add(Dropout(0.2))\n",
        "lstm_model.add(LSTM(units=50))\n",
        "lstm_model.add(Dropout(0.2))\n",
        "'''\n",
        "Dense, this layer is fully connected layer, and each neuron receives input from all the neurons of previous layer.\n",
        "'''\n",
        "lstm_model.add(Dense(units=1))"
      ],
      "metadata": {
        "id": "KwJtF-XF0_xP"
      },
      "execution_count": null,
      "outputs": []
    },
    {
      "cell_type": "code",
      "source": [
        "lstm_model.compile(optimizer=\"adam\", loss=\"mean_squared_error\")\n",
        "lstm_model.summary()"
      ],
      "metadata": {
        "colab": {
          "base_uri": "https://localhost:8080/"
        },
        "id": "4szBxC5m1CnV",
        "outputId": "226c9872-cc75-4d1d-ef62-51b717d1c5b3"
      },
      "execution_count": null,
      "outputs": [
        {
          "output_type": "stream",
          "name": "stdout",
          "text": [
            "Model: \"sequential\"\n",
            "_________________________________________________________________\n",
            " Layer (type)                Output Shape              Param #   \n",
            "=================================================================\n",
            " lstm (LSTM)                 (None, 60, 50)            10400     \n",
            "                                                                 \n",
            " dropout (Dropout)           (None, 60, 50)            0         \n",
            "                                                                 \n",
            " lstm_1 (LSTM)               (None, 60, 50)            20200     \n",
            "                                                                 \n",
            " dropout_1 (Dropout)         (None, 60, 50)            0         \n",
            "                                                                 \n",
            " lstm_2 (LSTM)               (None, 60, 50)            20200     \n",
            "                                                                 \n",
            " dropout_2 (Dropout)         (None, 60, 50)            0         \n",
            "                                                                 \n",
            " lstm_3 (LSTM)               (None, 50)                20200     \n",
            "                                                                 \n",
            " dropout_3 (Dropout)         (None, 50)                0         \n",
            "                                                                 \n",
            " dense (Dense)               (None, 1)                 51        \n",
            "                                                                 \n",
            "=================================================================\n",
            "Total params: 71,051\n",
            "Trainable params: 71,051\n",
            "Non-trainable params: 0\n",
            "_________________________________________________________________\n"
          ]
        }
      ]
    },
    {
      "cell_type": "code",
      "source": [
        "lstm_model.fit(X_train, Y_train, epochs=100, batch_size=32)"
      ],
      "metadata": {
        "id": "1ozn2fmNwlc7",
        "colab": {
          "base_uri": "https://localhost:8080/"
        },
        "outputId": "fbd29f49-9847-42ee-a1ed-051dfc7dea66"
      },
      "execution_count": null,
      "outputs": [
        {
          "output_type": "stream",
          "name": "stdout",
          "text": [
            "Epoch 1/100\n",
            "37/37 [==============================] - 16s 120ms/step - loss: 0.0262\n",
            "Epoch 2/100\n",
            "37/37 [==============================] - 4s 119ms/step - loss: 0.0054\n",
            "Epoch 3/100\n",
            "37/37 [==============================] - 4s 120ms/step - loss: 0.0051\n",
            "Epoch 4/100\n",
            "37/37 [==============================] - 4s 119ms/step - loss: 0.0044\n",
            "Epoch 5/100\n",
            "37/37 [==============================] - 4s 121ms/step - loss: 0.0043\n",
            "Epoch 6/100\n",
            "37/37 [==============================] - 5s 123ms/step - loss: 0.0037\n",
            "Epoch 7/100\n",
            "37/37 [==============================] - 4s 120ms/step - loss: 0.0033\n",
            "Epoch 8/100\n",
            "37/37 [==============================] - 4s 120ms/step - loss: 0.0031\n",
            "Epoch 9/100\n",
            "37/37 [==============================] - 4s 121ms/step - loss: 0.0037\n",
            "Epoch 10/100\n",
            "37/37 [==============================] - 4s 121ms/step - loss: 0.0033\n",
            "Epoch 11/100\n",
            "37/37 [==============================] - 5s 122ms/step - loss: 0.0033\n",
            "Epoch 12/100\n",
            "37/37 [==============================] - 4s 121ms/step - loss: 0.0030\n",
            "Epoch 13/100\n",
            "37/37 [==============================] - 4s 121ms/step - loss: 0.0027\n",
            "Epoch 14/100\n",
            "37/37 [==============================] - 4s 120ms/step - loss: 0.0031\n",
            "Epoch 15/100\n",
            "37/37 [==============================] - 4s 120ms/step - loss: 0.0026\n",
            "Epoch 16/100\n",
            "37/37 [==============================] - 4s 117ms/step - loss: 0.0028\n",
            "Epoch 17/100\n",
            "37/37 [==============================] - 4s 118ms/step - loss: 0.0028\n",
            "Epoch 18/100\n",
            "37/37 [==============================] - 4s 121ms/step - loss: 0.0025\n",
            "Epoch 19/100\n",
            "37/37 [==============================] - 4s 120ms/step - loss: 0.0025\n",
            "Epoch 20/100\n",
            "37/37 [==============================] - 4s 119ms/step - loss: 0.0028\n",
            "Epoch 21/100\n",
            "37/37 [==============================] - 5s 124ms/step - loss: 0.0021\n",
            "Epoch 22/100\n",
            "37/37 [==============================] - 5s 129ms/step - loss: 0.0024\n",
            "Epoch 23/100\n",
            "37/37 [==============================] - 4s 118ms/step - loss: 0.0028\n",
            "Epoch 24/100\n",
            "37/37 [==============================] - 4s 118ms/step - loss: 0.0020\n",
            "Epoch 25/100\n",
            "37/37 [==============================] - 5s 124ms/step - loss: 0.0021\n",
            "Epoch 26/100\n",
            "37/37 [==============================] - 4s 119ms/step - loss: 0.0025\n",
            "Epoch 27/100\n",
            "37/37 [==============================] - 4s 119ms/step - loss: 0.0020\n",
            "Epoch 28/100\n",
            "37/37 [==============================] - 4s 121ms/step - loss: 0.0021\n",
            "Epoch 29/100\n",
            "37/37 [==============================] - 4s 119ms/step - loss: 0.0023\n",
            "Epoch 30/100\n",
            "37/37 [==============================] - 4s 121ms/step - loss: 0.0023\n",
            "Epoch 31/100\n",
            "37/37 [==============================] - 4s 121ms/step - loss: 0.0022\n",
            "Epoch 32/100\n",
            "37/37 [==============================] - 4s 119ms/step - loss: 0.0022\n",
            "Epoch 33/100\n",
            "37/37 [==============================] - 5s 122ms/step - loss: 0.0019\n",
            "Epoch 34/100\n",
            "37/37 [==============================] - 4s 120ms/step - loss: 0.0021\n",
            "Epoch 35/100\n",
            "37/37 [==============================] - 4s 121ms/step - loss: 0.0018\n",
            "Epoch 36/100\n",
            "37/37 [==============================] - 4s 119ms/step - loss: 0.0018\n",
            "Epoch 37/100\n",
            "37/37 [==============================] - 4s 118ms/step - loss: 0.0019\n",
            "Epoch 38/100\n",
            "37/37 [==============================] - 4s 120ms/step - loss: 0.0017\n",
            "Epoch 39/100\n",
            "37/37 [==============================] - 5s 123ms/step - loss: 0.0017\n",
            "Epoch 40/100\n",
            "37/37 [==============================] - 4s 119ms/step - loss: 0.0017\n",
            "Epoch 41/100\n",
            "37/37 [==============================] - 4s 118ms/step - loss: 0.0017\n",
            "Epoch 42/100\n",
            "37/37 [==============================] - 6s 157ms/step - loss: 0.0018\n",
            "Epoch 43/100\n",
            "37/37 [==============================] - 4s 121ms/step - loss: 0.0016\n",
            "Epoch 44/100\n",
            "37/37 [==============================] - 4s 119ms/step - loss: 0.0019\n",
            "Epoch 45/100\n",
            "37/37 [==============================] - 4s 120ms/step - loss: 0.0016\n",
            "Epoch 46/100\n",
            "37/37 [==============================] - 4s 118ms/step - loss: 0.0017\n",
            "Epoch 47/100\n",
            "37/37 [==============================] - 4s 118ms/step - loss: 0.0015\n",
            "Epoch 48/100\n",
            "37/37 [==============================] - 4s 119ms/step - loss: 0.0016\n",
            "Epoch 49/100\n",
            "37/37 [==============================] - 4s 118ms/step - loss: 0.0014\n",
            "Epoch 50/100\n",
            "37/37 [==============================] - 4s 119ms/step - loss: 0.0014\n",
            "Epoch 51/100\n",
            "37/37 [==============================] - 4s 119ms/step - loss: 0.0018\n",
            "Epoch 52/100\n",
            "37/37 [==============================] - 4s 119ms/step - loss: 0.0019\n",
            "Epoch 53/100\n",
            "37/37 [==============================] - 4s 119ms/step - loss: 0.0015\n",
            "Epoch 54/100\n",
            "37/37 [==============================] - 4s 119ms/step - loss: 0.0015\n",
            "Epoch 55/100\n",
            "37/37 [==============================] - 4s 120ms/step - loss: 0.0016\n",
            "Epoch 56/100\n",
            "37/37 [==============================] - 4s 121ms/step - loss: 0.0013\n",
            "Epoch 57/100\n",
            "37/37 [==============================] - 4s 120ms/step - loss: 0.0013\n",
            "Epoch 58/100\n",
            "37/37 [==============================] - 5s 122ms/step - loss: 0.0014\n",
            "Epoch 59/100\n",
            "37/37 [==============================] - 5s 122ms/step - loss: 0.0014\n",
            "Epoch 60/100\n",
            "37/37 [==============================] - 5s 122ms/step - loss: 0.0015\n",
            "Epoch 61/100\n",
            "37/37 [==============================] - 4s 121ms/step - loss: 0.0014\n",
            "Epoch 62/100\n",
            "37/37 [==============================] - 4s 120ms/step - loss: 0.0014\n",
            "Epoch 63/100\n",
            "37/37 [==============================] - 4s 120ms/step - loss: 0.0014\n",
            "Epoch 64/100\n",
            "37/37 [==============================] - 4s 119ms/step - loss: 0.0015\n",
            "Epoch 65/100\n",
            "37/37 [==============================] - 4s 121ms/step - loss: 0.0014\n",
            "Epoch 66/100\n",
            "37/37 [==============================] - 4s 120ms/step - loss: 0.0013\n",
            "Epoch 67/100\n",
            "37/37 [==============================] - 4s 121ms/step - loss: 0.0013\n",
            "Epoch 68/100\n",
            "37/37 [==============================] - 5s 122ms/step - loss: 0.0014\n",
            "Epoch 69/100\n",
            "37/37 [==============================] - 5s 122ms/step - loss: 0.0012\n",
            "Epoch 70/100\n",
            "37/37 [==============================] - 4s 121ms/step - loss: 0.0013\n",
            "Epoch 71/100\n",
            "37/37 [==============================] - 4s 121ms/step - loss: 0.0013\n",
            "Epoch 72/100\n",
            "37/37 [==============================] - 4s 121ms/step - loss: 0.0013\n",
            "Epoch 73/100\n",
            "37/37 [==============================] - 4s 120ms/step - loss: 0.0015\n",
            "Epoch 74/100\n",
            "37/37 [==============================] - 4s 120ms/step - loss: 0.0012\n",
            "Epoch 75/100\n",
            "37/37 [==============================] - 5s 122ms/step - loss: 0.0013\n",
            "Epoch 76/100\n",
            "37/37 [==============================] - 4s 121ms/step - loss: 0.0012\n",
            "Epoch 77/100\n",
            "37/37 [==============================] - 4s 119ms/step - loss: 0.0012\n",
            "Epoch 78/100\n",
            "37/37 [==============================] - 4s 121ms/step - loss: 0.0012\n",
            "Epoch 79/100\n",
            "37/37 [==============================] - 4s 120ms/step - loss: 0.0012\n",
            "Epoch 80/100\n",
            "37/37 [==============================] - 4s 119ms/step - loss: 0.0011\n",
            "Epoch 81/100\n",
            "37/37 [==============================] - 4s 121ms/step - loss: 0.0011\n",
            "Epoch 82/100\n",
            "37/37 [==============================] - 4s 120ms/step - loss: 0.0011\n",
            "Epoch 83/100\n",
            "37/37 [==============================] - 4s 120ms/step - loss: 0.0015\n",
            "Epoch 84/100\n",
            "37/37 [==============================] - 4s 120ms/step - loss: 0.0013\n",
            "Epoch 85/100\n",
            "37/37 [==============================] - 5s 123ms/step - loss: 0.0010\n",
            "Epoch 86/100\n",
            "37/37 [==============================] - 4s 122ms/step - loss: 0.0011\n",
            "Epoch 87/100\n",
            "37/37 [==============================] - 4s 119ms/step - loss: 0.0012\n",
            "Epoch 88/100\n",
            "37/37 [==============================] - 4s 119ms/step - loss: 0.0012\n",
            "Epoch 89/100\n",
            "37/37 [==============================] - 4s 121ms/step - loss: 0.0013\n",
            "Epoch 90/100\n",
            "37/37 [==============================] - 4s 121ms/step - loss: 0.0011\n",
            "Epoch 91/100\n",
            "37/37 [==============================] - 4s 120ms/step - loss: 0.0011\n",
            "Epoch 92/100\n",
            "37/37 [==============================] - 4s 121ms/step - loss: 0.0010\n",
            "Epoch 93/100\n",
            "37/37 [==============================] - 4s 120ms/step - loss: 0.0011\n",
            "Epoch 94/100\n",
            "37/37 [==============================] - 4s 121ms/step - loss: 9.1972e-04\n",
            "Epoch 95/100\n",
            "37/37 [==============================] - 4s 120ms/step - loss: 0.0011\n",
            "Epoch 96/100\n",
            "37/37 [==============================] - 4s 120ms/step - loss: 0.0012\n",
            "Epoch 97/100\n",
            "37/37 [==============================] - 5s 121ms/step - loss: 0.0010\n",
            "Epoch 98/100\n",
            "37/37 [==============================] - 4s 121ms/step - loss: 0.0013\n",
            "Epoch 99/100\n",
            "37/37 [==============================] - 5s 122ms/step - loss: 0.0012\n",
            "Epoch 100/100\n",
            "37/37 [==============================] - 4s 121ms/step - loss: 9.5972e-04\n"
          ]
        },
        {
          "output_type": "execute_result",
          "data": {
            "text/plain": [
              "<keras.callbacks.History at 0x7fe1f49408d0>"
            ]
          },
          "metadata": {},
          "execution_count": 13
        }
      ]
    },
    {
      "cell_type": "code",
      "source": [
        "# save json file that contains model architecture\n",
        "lstm_model_json = lstm_model.to_json()\n",
        "with open(\"model.json\", \"w\") as json_file:\n",
        "    json_file.write(lstm_model_json)\n",
        "# save weights of model\n",
        "lstm_model.save_weights(\"model.h5\")"
      ],
      "metadata": {
        "id": "o3Q16bPGwsu6"
      },
      "execution_count": null,
      "outputs": []
    },
    {
      "cell_type": "code",
      "source": [
        "X_test, Y_test = [], []\n",
        "for i in range(60,80):\n",
        "  X_test.append(scaled_training_set[i-60:i, 0])\n",
        "  Y_test.append(scaled_training_set[i,0])\n",
        "X_test = np.array(X_test)\n",
        "Y_test = np.array(Y_test)\n",
        "x_test = np.reshape(X_test, (X_test.shape[0], X_test.shape[1], 1))\n",
        "y_test = np.reshape(Y_test, (Y_test.shape[0], 1))"
      ],
      "metadata": {
        "id": "-agBHNAqKmjP"
      },
      "execution_count": null,
      "outputs": []
    },
    {
      "cell_type": "code",
      "source": [
        "X_test, Y_test = [], []\n",
        "for i in range(120, 140):\n",
        "    X_test.append(scaled_training_set[i-60:i, 0])\n",
        "    Y_test.append(scaled_training_set[i, 0])\n",
        "X_test, Y_test = np.array(X_test), np.array(Y_test)\n",
        "X_test = np.reshape(X_test, (X_test.shape[0], X_test.shape[1], 1))\n",
        "Y_test = np.reshape(Y_test, (Y_test.shape[0], 1))\n",
        "# make predictions\n",
        "X_test_predictions = lstm_model.predict(X_test)\n",
        "# invert predictions\n",
        "X_test_predictions = scaler.inverse_transform(X_test_predictions)\n",
        "# invert the scaling for actual\n",
        "Y_test = scaler.inverse_transform(Y_test)\n",
        "# Visualize the predictions and actual values\n",
        "plt.plot(X_test_predictions, color=\"blue\",label=\"Predictions\")\n",
        "plt.plot(Y_test, color=\"red\", label=\"Actual\")\n",
        "plt.title(\"Predictions vs Actual on 20 values from NSE TATA GLOBAL Dataset\")\n",
        "plt.xlabel(\"Time\")\n",
        "plt.ylabel(\"Close Price\")\n",
        "plt.legend()\n",
        "plt.show()"
      ],
      "metadata": {
        "colab": {
          "base_uri": "https://localhost:8080/",
          "height": 295
        },
        "id": "ElyLxE5u4Vtv",
        "outputId": "9c049ff9-9ab3-455c-f5d7-9fa8e131c972"
      },
      "execution_count": null,
      "outputs": [
        {
          "output_type": "display_data",
          "data": {
            "text/plain": [
              "<Figure size 432x288 with 1 Axes>"
            ],
            "image/png": "[encoded data removed]"
          },
          "metadata": {
            "needs_background": "light"
          }
        }
      ]
    },
    {
      "cell_type": "code",
      "source": [
        "df2 = pd.read_csv(\"/content/stock_data.csv\")\n",
        "data2 = df2[['Close', 'Date']]\n",
        "data2['Date'] = pd.to_datetime(data2['Date'], format='%Y-%m-%d')\n",
        "data2.set_index('Date', inplace=True)\n",
        "data2 = data2.sort_index(ascending=True, axis=0)\n",
        "data2_array = data2.to_numpy()[:100]\n",
        "scaled_data2 = scaler.fit_transform(data2_array)\n",
        "X_test_2, Y_test_2 = [], []\n",
        "for i in range(60, 80):\n",
        "    X_test_2.append(scaled_data2[i-60:i, 0])\n",
        "    Y_test_2.append(scaled_data2[i, 0])\n",
        "X_test_2, Y_test_2 = np.array(X_test_2), np.array(Y_test_2)\n",
        "X_test_2 = np.reshape(X_test_2, (X_test_2.shape[0], X_test_2.shape[1], 1))\n",
        "Y_test_2 = np.reshape(Y_test_2, (Y_test_2.shape[0], 1))\n",
        "# make predictions\n",
        "X_test_predictions_2 = lstm_model.predict(X_test_2)\n",
        "# invert predictions\n",
        "X_test_predictions_2 = scaler.inverse_transform(X_test_predictions_2)\n",
        "# invert the scaling for actual\n",
        "Y_test_2 = scaler.inverse_transform(Y_test_2)\n",
        "# Visualize the predictions and actual values\n",
        "plt.plot(X_test_predictions_2, color=\"blue\", label=\"Predictions\")\n",
        "plt.plot(Y_test_2, color=\"red\", label=\"Actual\")\n",
        "plt.title(\"Predictions vs Actual on 20 values from New Dataset\")\n",
        "plt.xlabel(\"Time\")\n",
        "plt.ylabel(\"Close Price\")\n",
        "plt.legend()\n",
        "plt.show()"
      ],
      "metadata": {
        "colab": {
          "base_uri": "https://localhost:8080/",
          "height": 399
        },
        "id": "4gYLqNQz9NZr",
        "outputId": "501caa96-ca64-40c8-cd46-42ce6ef9292a"
      },
      "execution_count": null,
      "outputs": [
        {
          "output_type": "stream",
          "name": "stderr",
          "text": [
            "/usr/local/lib/python3.7/dist-packages/ipykernel_launcher.py:3: SettingWithCopyWarning: \n",
            "A value is trying to be set on a copy of a slice from a DataFrame.\n",
            "Try using .loc[row_indexer,col_indexer] = value instead\n",
            "\n",
            "See the caveats in the documentation: https://pandas.pydata.org/pandas-docs/stable/user_guide/indexing.html#returning-a-view-versus-a-copy\n",
            "  This is separate from the ipykernel package so we can avoid doing imports until\n"
          ]
        },
        {
          "output_type": "display_data",
          "data": {
            "text/plain": [
              "<Figure size 432x288 with 1 Axes>"
            ],
            "image/png": "[encoded data removed]"
          },
          "metadata": {
            "needs_background": "light"
          }
        }
      ]
    },
    {
      "cell_type": "code",
      "source": [
        ""
      ],
      "metadata": {
        "id": "oEPKq7G69OMQ"
      },
      "execution_count": null,
      "outputs": []
    }
  ]
}